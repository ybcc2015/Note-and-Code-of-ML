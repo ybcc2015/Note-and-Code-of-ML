{
 "cells": [
  {
   "cell_type": "markdown",
   "metadata": {},
   "source": [
    "## 感知机 (Perceptron)\n",
    "感知机是一个线性二分类模型，该模型的目标是找到能将训练数据正确划分成两类的分离超平面。   \n",
    "感知机是神经网络和SVM的基础。  "
   ]
  },
  {
   "cell_type": "markdown",
   "metadata": {},
   "source": [
    "### 1.模型定义\n",
    "假设输入数据的特征向量为 $x \\in R^{n}$，输出为$y=\\{+1, -1\\}$，则感知机模型由如下函数定义：$$f(x)=sign(w\\cdot x+b)$$\n",
    "sign为符号函数，即$$ sign(x)=\\left\\{\n",
    "\\begin{aligned}\n",
    "+1, \\ x\\geq 0 \\\\\n",
    "-1, \\ x<0 \\\\\n",
    "\\end{aligned}\n",
    "\\right.\n",
    "$$\n",
    "其中，$w\\in R^{n}$为模型的权重参数，$b \\in R$为模型的偏置参数。  \n",
    "在训练数据是线性可分的情况下，即存在某个超平面$w\\cdot x+b$，对于所以得正样本($y=1$)有$w\\cdot x+b>0$，对于所以得负样本($y=-1$)有$w\\cdot x+b<0$，\n",
    "感知机学习的目的就是找到这个能正确划分训练数据的超平面，而这个超平面是由w和b决定的，所以也就等同于找到正确的参数w和b。"
   ]
  },
  {
   "cell_type": "markdown",
   "metadata": {},
   "source": [
    "### 2.损失函数\n",
    "很容易想到用误分类样本的总数作为感知机的损失函数，但是存在的问题是，这样的损失函数对于参数w和b来说不是连续可导的，不易于优化。为此，感知机最终采用的损失函数是误分类样本到超平面的总距离，这个损失函数是连续可导函数。下面来一起看看这个损失函数的定义。 \n",
    "  \n",
    "先回忆下初中的数学知识，对于n维空间$R^{n}$中的任意一点$x_{0}$，到某平面S的距离为：$${|w\\cdot x_{0}+b|}\\over {||w||} $$\n",
    "其中$||w||$是w的L2范数，即$||w||=\\sqrt[]{\\sum^{i=1}_{n}{w_{i}^2}}$ 。\n",
    "  \n",
    "对于某个误分类的正样本，有$y_{i}=+1$，$-y_{i}(w\\cdot x_{i}+b)<0$；对于某个误分类的负样本，有$y_{i}=-1$，$-y_{i}(w\\cdot x_{i}+b)>0$，  \n",
    "因此，对于误分类的样本来说，总有$-y_{i}(w\\cdot x_{i}+b)>0$，故误分类样本到超平面的距离可以写为：$$-\\frac{y_{i}(w\\cdot x_{i}+b)}{||w||} $$  \n",
    "综上，假设被误分类的样本集合为M，所有误分类样本到超平面的距离之和为：$$-\\frac{\\sum_{x_{i}\\in M} y_{i}(w\\cdot x_{i}+b)}{||w||} $$\n",
    "这个公式有个特点，就是当w和b以某个倍数缩放时，分子和分母会缩放相同的倍数，可以约掉，所以最终的损失函数可以只考虑分子，即$$L(w,b)=-\\sum_{x_{i}\\in M} y_{i}(w\\cdot x_{i}+b)$$\n",
    "这就是感知机模型的损失函数，该函数是w,b的连续可导函数。损失函数越小，则误分类点就离超平面越近，当损失函数为0时，则表明样本全部分类正确。感知机模型的目的就是找到使损失函数最小时的参数w和b。"
   ]
  },
  {
   "cell_type": "markdown",
   "metadata": {},
   "source": [
    "### 3.算法流程\n",
    "从上面可以知道，感知机学习问题实际上就是损失函数极小化问题：$min_{w,b}L(w,b)$，要求使得损失函数最小的w和b，我们先随机初始化w和b，然后采用**随机梯度下降(SGD)** 来优化求解。\n",
    "> **随机梯度下降**：与批量梯度下降一次使用所有样本来更新参数不同，随机梯度下降一次只随机选取一个样本来更新参数。\n",
    "\n",
    "损失函数$L(w,b)$关于w、b的梯度分布为：$$\\frac{dL}{w} = -\\sum_{x_{i}\\in M}y_{i}x_{i}$$ $$\\frac{dL}{b} = -\\sum_{x_{i}\\in M}y_{i}$$\n",
    "随机选取一个误分类样本$(x_{i},y_{i})$，对w和b进行更新：$$w:=w+αy_{i}x_{i}$$ $$b:=b+αy_{i}$$\n",
    "其中$α\\in(0,1]$是学习率(learning rate)  \n",
    "  \n",
    "综上，感知机算法求解步骤如下：  \n",
    ">模型函数$f(x)=sign(w\\cdot x+b)$，求解w,b\n",
    "1. 随机初始化w,b\n",
    "2. 在训练集中选取某个样本$(x_{i},y_{i})$\n",
    "3. 如果$y_{i}(w\\cdot x_{i}+b)\\leq 0$，则更新参数：  \n",
    "$w:=w+αy_{i}x_{i}$  \n",
    "$b:=b+αy_{i}$\n",
    "4. 继续执行第2步，直到没有误分类的样本\n",
    "\n",
    "感知机算法的直观解释：  \n",
    "当有一个样本被误分类时，即该样本位于分离超平面错误的一侧，则调整w和b的值，使超平面向误分类样本的一侧移动，直到超平面越过该误分类样本使其被正确分类。并且有定理已经证明，在训练集线性可分的情况下，该算法是可以收敛的，即经过有限次迭代后可以找到一个能够完全正确划分所有数据的超平面。(该定理叫做**Novikoff定理**，有兴趣的同学可以自己去搜索推导过程)"
   ]
  },
  {
   "cell_type": "markdown",
   "metadata": {},
   "source": [
    "### 4.Code\n",
    "说了这么多概念和理论，终于到了愉快的敲代码环节啦 :-）  \n",
    "代码中使用Iris数据集，该数据集中每个样本有4个特征，共分为三类。为了方便可视化，训练时只使用了前两个特征和前两个类别。\n",
    "#### 4.1 手动造轮子"
   ]
  },
  {
   "cell_type": "code",
   "execution_count": 1,
   "metadata": {},
   "outputs": [],
   "source": [
    "import pandas as pd\n",
    "import numpy as np\n",
    "from sklearn.datasets import load_iris\n",
    "import matplotlib.pyplot as plt\n",
    "%matplotlib inline"
   ]
  },
  {
   "cell_type": "code",
   "execution_count": 2,
   "metadata": {
    "scrolled": true
   },
   "outputs": [],
   "source": [
    "# 加载Iris数据集\n",
    "iris = load_iris()\n",
    "X = iris.data[:, :2]  # 只取前两个特征\n",
    "Y = iris.target"
   ]
  },
  {
   "cell_type": "code",
   "execution_count": 3,
   "metadata": {},
   "outputs": [
    {
     "data": {
      "image/png": "[encoded data removed]",
      "text/plain": [
       "<matplotlib.figure.Figure at 0x19135688b38>"
      ]
     },
     "metadata": {
      "needs_background": "light"
     },
     "output_type": "display_data"
    }
   ],
   "source": [
    "# 可视化\n",
    "plt.scatter(X[:50][:,0], X[:50][:,1], label='1')\n",
    "plt.scatter(X[50:100][:, 0], X[50:100][:, 1], label='2')\n",
    "plt.scatter(X[100:][:, 0], X[100:][:, 1], label='3')\n",
    "plt.xlabel('sepal length')\n",
    "plt.ylabel('sepal width')\n",
    "plt.legend()\n",
    "plt.show()"
   ]
  },
  {
   "cell_type": "markdown",
   "metadata": {},
   "source": [
    "从图中可以看出，第1类数据与另外两类都是线性可分的，而第2类数据与第3类数据线性不可分，所以在后面训练中将只取第1类数据和第2类数据。"
   ]
  },
  {
   "cell_type": "code",
   "execution_count": 4,
   "metadata": {},
   "outputs": [
    {
     "name": "stdout",
     "output_type": "stream",
     "text": [
      "X shape：(100, 2)\n",
      "Y shape：(100,)\n"
     ]
    }
   ],
   "source": [
    "# 取前两类数据作为训练集\n",
    "X = X[:100]\n",
    "Y = Y[:100]\n",
    "\n",
    "# 将类0 -> -1\n",
    "Y = np.where(Y, 1, -1) \n",
    "\n",
    "print('X shape：{}'.format(X.shape))\n",
    "print('Y shape：{}'.format(Y.shape))"
   ]
  },
  {
   "cell_type": "code",
   "execution_count": 5,
   "metadata": {},
   "outputs": [
    {
     "data": {
      "image/png": "[encoded data removed]",
      "text/plain": [
       "<matplotlib.figure.Figure at 0x1913770eba8>"
      ]
     },
     "metadata": {
      "needs_background": "light"
     },
     "output_type": "display_data"
    }
   ],
   "source": [
    "# 可视化\n",
    "plt.scatter(X[:50][:,0], X[:50][:,1], label='-1')\n",
    "plt.scatter(X[50:100][:, 0], X[50:100][:, 1], label='+1')\n",
    "plt.xlabel('sepal length')\n",
    "plt.ylabel('sepal width')\n",
    "plt.legend()\n",
    "plt.show()"
   ]
  },
  {
   "cell_type": "code",
   "execution_count": 61,
   "metadata": {},
   "outputs": [],
   "source": [
    "class Perceptron(object):\n",
    "    def __init__(self, lr=0.1, max_iter=1000, shuffle=True, log=True):\n",
    "        self.max_iter = max_iter\n",
    "        self.lr = lr\n",
    "        self.shuffle = shuffle\n",
    "        self.log = log\n",
    "        self.w = None\n",
    "        self.b = 0\n",
    "    \n",
    "    def sign(self, x):\n",
    "        return 1 if x >= 0 else -1\n",
    "    \n",
    "    def fit(self, X, Y):\n",
    "        # 样本数量\n",
    "        m = X.shape[0]\n",
    "        \n",
    "        # 初始化w\n",
    "        self.w = np.random.randn(X.shape[1])\n",
    "        \n",
    "        # 打乱顺序\n",
    "        if self.shuffle:\n",
    "            idx = list(range(m))\n",
    "            np.random.shuffle(idx)\n",
    "            X = X[idx]\n",
    "            Y = Y[idx]\n",
    "        \n",
    "        iter_num = 0\n",
    "        while iter_num < self.max_iter:\n",
    "            wrong_samples = []  # 用来存放误分类样本的Loss\n",
    "            for i in range(m):\n",
    "                x = X[i]\n",
    "                y = Y[i]\n",
    "                tmp = y * np.add(np.dot(self.w, x), self.b)  # y * (wx + b)\n",
    "                if tmp <= 0:\n",
    "                    # 更新w,b\n",
    "                    self.w += self.lr * y * x\n",
    "                    self.b += self.lr * y\n",
    "                    wrong_samples.append(-tmp)\n",
    "            \n",
    "            if self.log:\n",
    "                # 每迭代50次且有误分类样本时，打印一次日志\n",
    "                if iter_num % 50 == 0 and wrong_samples:\n",
    "                    loss = np.sum(wrong_samples)\n",
    "                    print('iter_num: {}\\tloss: {:6f}'.format(iter_num, loss))\n",
    "                # 打印最后一条日志（loss=0）\n",
    "                if not wrong_samples:\n",
    "                    print('iter_num: {}\\tloss: 0.0'.format(iter_num))\n",
    "\n",
    "            if not wrong_samples:\n",
    "                break\n",
    "            iter_num += 1\n",
    "            \n",
    "    def predict(self, x):\n",
    "        value = np.dot(self.w, x) + self.b\n",
    "        pred = self.sign(value)\n",
    "        return pred"
   ]
  },
  {
   "cell_type": "code",
   "execution_count": 62,
   "metadata": {
    "scrolled": true
   },
   "outputs": [
    {
     "name": "stdout",
     "output_type": "stream",
     "text": [
      "iter_num: 0\tloss: 77.254556\n",
      "iter_num: 50\tloss: 3.400018\n",
      "iter_num: 100\tloss: 4.933437\n",
      "iter_num: 150\tloss: 3.400887\n",
      "iter_num: 200\tloss: 2.267075\n",
      "iter_num: 250\tloss: 2.035453\n",
      "iter_num: 300\tloss: 2.099075\n",
      "iter_num: 350\tloss: 1.833075\n",
      "iter_num: 400\tloss: 1.729911\n",
      "iter_num: 450\tloss: 1.146453\n",
      "iter_num: 500\tloss: 1.162453\n",
      "iter_num: 505\tloss: 0.0\n"
     ]
    }
   ],
   "source": [
    "pla = Perceptron()\n",
    "pla.fit(X, Y)"
   ]
  },
  {
   "cell_type": "code",
   "execution_count": 63,
   "metadata": {},
   "outputs": [
    {
     "data": {
      "image/png": "[encoded data removed]",
      "text/plain": [
       "<matplotlib.figure.Figure at 0x1913936d518>"
      ]
     },
     "metadata": {
      "needs_background": "light"
     },
     "output_type": "display_data"
    }
   ],
   "source": [
    "x0s = np.array([4.0, 7.0])\n",
    "x1s = -(pla.w[0] * x0s + pla.b) / pla.w[1]\n",
    "plt.plot(x0s, x1s)\n",
    "\n",
    "plt.scatter(X[:50][:,0], X[:50][:,1], label='-1')\n",
    "plt.scatter(X[50:100][:, 0], X[50:100][:, 1], label='+1')\n",
    "plt.xlabel('sepal length')\n",
    "plt.ylabel('sepal width')\n",
    "plt.legend()\n",
    "plt.show()"
   ]
  },
  {
   "cell_type": "code",
   "execution_count": 64,
   "metadata": {},
   "outputs": [
    {
     "name": "stdout",
     "output_type": "stream",
     "text": [
      "1\n",
      "-1\n"
     ]
    }
   ],
   "source": [
    "# prediect\n",
    "test_pos_data = np.array([7.0, 3.5])  # 随机生成一个正样本\n",
    "test_neg_data = np.array([4.2, 2.5])\n",
    "print(pla.predict(test_pos_data))\n",
    "print(pla.predict(test_neg_data))"
   ]
  },
  {
   "cell_type": "markdown",
   "metadata": {},
   "source": [
    "### 4.2 sklearn版"
   ]
  },
  {
   "cell_type": "code",
   "execution_count": null,
   "metadata": {},
   "outputs": [],
   "source": []
  }
 ],
 "metadata": {
  "kernelspec": {
   "display_name": "Python 3",
   "language": "python",
   "name": "python3"
  },
  "language_info": {
   "codemirror_mode": {
    "name": "ipython",
    "version": 3
   },
   "file_extension": ".py",
   "mimetype": "text/x-python",
   "name": "python",
   "nbconvert_exporter": "python",
   "pygments_lexer": "ipython3",
   "version": "3.6.4"
  }
 },
 "nbformat": 4,
 "nbformat_minor": 2
}
