{
 "cells": [
  {
   "cell_type": "markdown",
   "metadata": {},
   "source": [
    "## k近邻 (k-nearest neighbor, k-NN)\n",
    "k近邻是一种非常简单的监督学习模型，既可以用于分类问题，也可以用于回归问题。  \n",
    "  \n",
    "模型的工作原理：基于某种**距离度量**找到离预测样本最近的k个训练样本，然后用这k个训练样本的信息来进行预测。对于分类问题，一般使用**多数表决法**，即将这k个训练样本中出现最多的类别作为预测样本的类别；对于回归问题，一般使用**均值法**，即将这k个训练样本的真实值的均值作为预测样本的预测值。 \n",
    "  \n",
    "（后面我们只讨论分类问题）"
   ]
  },
  {
   "cell_type": "markdown",
   "metadata": {},
   "source": [
    "### 模型定义\n",
    "k-NN模型实际上对应于对训练集的特征空间的一个划分，将整个特征空间划分为一些子空间。模型由以下三个要素确定：\n",
    "- k值选择\n",
    "- 距离度量\n",
    "- 分类决策（比如多数表决）\n",
    "\n",
    "k-NN算法并没有训练过程，当训练集、k值、距离度量以及分类决策都确定后，对于要预测的新数据来说，它的类别也唯一确定了。"
   ]
  },
  {
   "cell_type": "code",
   "execution_count": null,
   "metadata": {},
   "outputs": [],
   "source": []
  }
 ],
 "metadata": {
  "kernelspec": {
   "display_name": "Python 3",
   "language": "python",
   "name": "python3"
  },
  "language_info": {
   "codemirror_mode": {
    "name": "ipython",
    "version": 3
   },
   "file_extension": ".py",
   "mimetype": "text/x-python",
   "name": "python",
   "nbconvert_exporter": "python",
   "pygments_lexer": "ipython3",
   "version": "3.6.4"
  },
  "toc": {
   "base_numbering": 1,
   "nav_menu": {},
   "number_sections": false,
   "sideBar": true,
   "skip_h1_title": false,
   "title_cell": "Table of Contents",
   "title_sidebar": "Contents",
   "toc_cell": false,
   "toc_position": {},
   "toc_section_display": true,
   "toc_window_display": false
  }
 },
 "nbformat": 4,
 "nbformat_minor": 2
}
