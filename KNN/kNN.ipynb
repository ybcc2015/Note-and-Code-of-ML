{
 "cells": [
  {
   "cell_type": "markdown",
   "metadata": {},
   "source": [
    "## k近邻 (k-nearest neighbor, k-NN)\n",
    "k近邻是一种非常简单的监督学习模型，既可以用于分类问题，也可以用于回归问题。  \n",
    "  \n",
    "模型的工作原理：基于某种**距离度量**找到离预测样本最近的k个训练样本，然后用这k个训练样本的信息来进行预测。对于分类问题，一般使用**多数表决法**，即将这k个训练样本中出现最多的类别作为预测样本的类别；对于回归问题，一般使用**均值法**，即将这k个训练样本的真实值的均值作为预测样本的预测值。 \n",
    "  \n",
    "（后面我们只讨论分类问题）"
   ]
  },
  {
   "cell_type": "markdown",
   "metadata": {},
   "source": [
    "### 1.模型定义\n",
    "k-NN模型实际上对应于对训练集的特征空间的一个划分，将整个特征空间划分为一些子空间。模型由以下三个要素确定：\n",
    "- k值选择\n",
    "- 距离度量\n",
    "- 分类决策（比如多数表决）\n",
    "\n",
    "k-NN算法并没有训练过程，当训练集、k值、距离度量以及分类决策都确定后，对于要预测的新数据来说，它的类别也唯一确定了。"
   ]
  },
  {
   "attachments": {},
   "cell_type": "markdown",
   "metadata": {},
   "source": [
    "### 2.k值选择\n",
    "![图片来自Wiki](https://upload.wikimedia.org/wikipedia/commons/thumb/e/e7/KnnClassification.svg/220px-KnnClassification.svg.png)\n",
    "k值的大小对模型的预测结果有很大的影响。如上图所示，绿色的圆形是要进行分类的新样本，当k=3时，距离其最近的3个样本分别是两个三角形和一个正方形，所以根据多数表决法该新样本会划分成三角形那一类；同理，当k=5时，新样本会被划分成正方形那一类。  \n",
    "  \n",
    "如果选择较小的k值，相当于用较小领域中的训练样本来决定预测样本的类别，这使得模型会非常敏感，如果k=1，当最近的这个训练样本恰好是噪声时，则预测结果就会出错；  \n",
    "如果选择较大的k值，相当于用较大领域中的训练样本来决定预测样本的类别，这会使得较远的（不相似的）训练样本对预测结果产生影响，如果k=N，即用到整个训练集，那么无论预测样本是什么，都会把它预测成训练集中出现最多的那一类。  \n",
    ">**k值越小意味着模型越复杂，容易发生过拟合；越大意味着模型越简单，容易发现欠拟合**  \n",
    "\n",
    "在实际中，一般采用交叉验证法来选取合适的k值。"
   ]
  },
  {
   "cell_type": "markdown",
   "metadata": {},
   "source": [
    "### 距离度量\n",
    "在k近邻模型中，两个样本点的距离反应了它们的相似程度。距离度量一般采用的是$L_{p}$距离。  \n",
    "假设样本是n维的，则任意两个样本$x_{i}, x_{j}$的$L_{p}$距离定义为：\n",
    "$$L_{p}(x_{i}, x_{j})=\\big(\\sum^{n}_{l=1}\\big|x^{l}_{i}-x^{l}_{j}\\big|^{p}\\big)^{\\frac{1}{p}},\\quad p\\geq 1$$\n",
    "当p=1时，为曼哈顿距离：\n",
    "$$L_{1}(x_{i}, x_{j})=\\sum^{n}_{l=1}\\big|x^{l}_{i}-x^{l}_{j}\\big|$$\n",
    "当p=2时，为欧氏距离：\n",
    "$$L_{2}(x_{i}, x_{j})=\\big(\\sum^{n}_{l=1}\\big|x^{l}_{i}-x^{l}_{j}\\big|^{2}\\big)^{\\frac{1}{2}}$$ \n",
    "当p=∞时，是各个维度距离的最大值：\n",
    "$$L_{\\infty}(x_{i}, x_{j})=max\\,\\big|x^{l}_{i}-x^{l}_{j}\\big|$$  \n",
    "  \n",
    "不同的距离度量所确定的最邻近的样本是不同的，在实际中，最常采用的是欧氏距离。"
   ]
  }
 ],
 "metadata": {
  "kernelspec": {
   "display_name": "Python 3",
   "language": "python",
   "name": "python3"
  },
  "language_info": {
   "codemirror_mode": {
    "name": "ipython",
    "version": 3
   },
   "file_extension": ".py",
   "mimetype": "text/x-python",
   "name": "python",
   "nbconvert_exporter": "python",
   "pygments_lexer": "ipython3",
   "version": "3.6.4"
  },
  "toc": {
   "base_numbering": 1,
   "nav_menu": {},
   "number_sections": false,
   "sideBar": true,
   "skip_h1_title": false,
   "title_cell": "Table of Contents",
   "title_sidebar": "Contents",
   "toc_cell": false,
   "toc_position": {},
   "toc_section_display": true,
   "toc_window_display": false
  }
 },
 "nbformat": 4,
 "nbformat_minor": 2
}
