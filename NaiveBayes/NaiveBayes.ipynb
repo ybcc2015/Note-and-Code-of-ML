{
 "cells": [
  {
   "cell_type": "markdown",
   "metadata": {},
   "source": [
    "## 朴素贝叶斯 (Naive Bayes)\n",
    "朴素贝叶斯是一个简单且常用的分类算法，其基于两个条件：\n",
    "1. 贝叶斯定理\n",
    "2. 特征条件独立假设"
   ]
  },
  {
   "cell_type": "markdown",
   "metadata": {},
   "source": [
    "### 1.模型定义\n",
    "设输入数据$x \\in R^n$，输出类别$y=\\{c_1,c_2,...,c_K\\}$，X是输入空间中的随机向量，Y是输出空间中的随机变量，则有    \n",
    "联合概率分布：$P(X,Y)$    \n",
    "先验概率分布：$P(Y=c_k),\\quad k=1,2,...,K$    \n",
    "条件概率分布：$P(X=x\\mid Y=c_k)=P(X^1=x^1,...,X^n=x^n\\mid Y=c_k),\\quad k=1,2,...,K$    \n",
    "朴素贝叶斯就是通过**条件概率分布**和**先验分布**来学习**联合概率分布**。  \n",
    "  \n",
    "之所以称为**朴素**贝叶斯，是因为对条件概率分布作了条件独立假设，即：$$P(X=x\\mid Y=c_k)=P(X^1=x^1,...,X^n=x^n\\mid Y=c_k)=\\prod_{j=1}^nP(X^j=x^j\\mid Y=c_k)$$  \n",
    "**条件独立假设**是指用于分类的特征在类别确定的条件下都是独立的，这一假设使得朴素贝叶斯算法更加简单，但有时会牺牲分类的准确率。  \n",
    "  \n",
    "朴素贝叶斯模型对输入x计算后验概率$P(Y=c_k\\mid X=x)$，将后验概率最大的类作为x的分类结果。后验概率根据贝叶斯定理计算：$$P(Y=c_k\\mid X=x)=\\frac{P(X=x\\mid Y=c_k)P(Y=c_k)}{\\sum_{k}P(X=x\\mid Y=c_k)P(Y=c_k)}$$  \n",
    "由条件独立，可得：$$P(Y=c_k\\mid X=x)=\\frac{P(Y=c_k)\\prod_{j}P(X^j=x^j\\mid Y=c_k)}{\\sum_{k}P(Y=c_k)\\prod_{j}P(X^j=x^j\\mid Y=c_k)}$$  \n",
    "因此，朴素贝叶斯模型可以表示为：$$y=argmax_{C_k}\\frac{P(Y=c_k)\\prod_{j}P(X^j=x^j\\mid Y=c_k)}{\\sum_{k}P(Y=c_k)\\prod_{j}P(X^j=x^j\\mid Y=c_k)}$$  \n",
    "又由于上式中分母是不变的，所以可以简化为：$$y=argmax_{C_k}P(Y=c_k)\\prod_{j}P(X^j=x^j\\mid Y=c_k)$$"
   ]
  },
  {
   "cell_type": "markdown",
   "metadata": {},
   "source": [
    "### 2.极大似然估计\n",
    "在朴素贝叶斯算法中，通常用极大似然估计来计算先验概率$P(Y=c_k)$和条件概率$P(X^j=x^j\\mid Y=c_k)$。 \n",
    "  \n",
    "先验概率$P(Y=c_k)$的极大似然估计：$$P(Y=c_k)=\\frac{\\sum_{i=1}^{N}I(y_i=c_k)}{N}$$ \n",
    "  \n",
    "设第j个特征$x^j\\in\\{a_{j1},a_{j2},...,a_{jS_{j}}\\}$，条件概率$P(X^j=a_{jl}\\mid Y=c_k)$的极大似然估计：$$P(X^j=a_{jl}\\mid Y=c_k)=\\frac{\\sum_{i=1}^{N}I(x_i^j=a_{jl},y_i=c_k)}{\\sum_{i=1}^{N}I(y_i=c_k)}$$ "
   ]
  },
  {
   "cell_type": "markdown",
   "metadata": {},
   "source": [
    "### 3.算法流程"
   ]
  },
  {
   "cell_type": "code",
   "execution_count": null,
   "metadata": {},
   "outputs": [],
   "source": []
  }
 ],
 "metadata": {
  "kernelspec": {
   "display_name": "Python 3",
   "language": "python",
   "name": "python3"
  },
  "language_info": {
   "codemirror_mode": {
    "name": "ipython",
    "version": 3
   },
   "file_extension": ".py",
   "mimetype": "text/x-python",
   "name": "python",
   "nbconvert_exporter": "python",
   "pygments_lexer": "ipython3",
   "version": "3.6.4"
  },
  "toc": {
   "base_numbering": 1,
   "nav_menu": {},
   "number_sections": false,
   "sideBar": true,
   "skip_h1_title": false,
   "title_cell": "Table of Contents",
   "title_sidebar": "Contents",
   "toc_cell": false,
   "toc_position": {
    "height": "calc(100% - 180px)",
    "left": "10px",
    "top": "150px",
    "width": "248px"
   },
   "toc_section_display": true,
   "toc_window_display": false
  }
 },
 "nbformat": 4,
 "nbformat_minor": 2
}
