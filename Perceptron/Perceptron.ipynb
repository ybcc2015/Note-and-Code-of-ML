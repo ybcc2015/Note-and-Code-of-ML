{
 "cells": [
  {
   "cell_type": "markdown",
   "metadata": {},
   "source": [
    "## 感知机 (Perceptron)\n",
    "感知机是一个线性二分类模型，该模型的目标是找到能将训练数据正确划分成两类的分离超平面。   \n",
    "感知机是神经网络和SVM的基础。  "
   ]
  },
  {
   "cell_type": "markdown",
   "metadata": {},
   "source": [
    "### 1.模型定义\n",
    "假设输入数据的特征向量为 $x \\in R^{n}$，输出为$y=\\{+1, -1\\}$，则感知机模型由如下函数定义：$$f(x)=sign(w\\cdot x+b)$$\n",
    "sign为符号函数，即$$ sign(x)=\\left\\{\n",
    "\\begin{aligned}\n",
    "+1, \\ x\\geq 0 \\\\\n",
    "-1, \\ x<0 \\\\\n",
    "\\end{aligned}\n",
    "\\right.\n",
    "$$\n",
    "其中，$w\\in R^{n}$为模型的权重参数，$b \\in R$为模型的偏置参数。  \n",
    "在训练数据线性可分的情况下，即存在某个超平面$w\\cdot x+b$，对于所有正样本($y=1$)，有$w\\cdot x+b>0$，对于所有负样本($y=-1$)，有$w\\cdot x+b<0$，\n",
    "感知机学习的目的就是找到这个超平面，而这个超平面是由**w**和**b**决定的，所以也就等同于找到正确的参数**w**和**b**。"
   ]
  },
  {
   "cell_type": "markdown",
   "metadata": {},
   "source": [
    "### 2.损失函数\n",
    "很容易想到用误分类样本的总数作为感知机的损失函数，但是存在的问题是，这样的损失函数对于参数w和b来说不是连续可导的，不易于优化。为此，感知机最终采用的损失函数是误分类样本到超平面的总距离，这个损失函数是连续可导函数。下面来一起看看这个损失函数的定义。 \n",
    "  \n",
    "先回忆下初中的数学知识，对于n维空间$R^{n}$中的任意一点$x_{0}$，到某平面S的距离为：$${|w\\cdot x_{0}+b|}\\over {||w||} $$\n",
    "其中$||w||$是w的L2范数，即$||w||=\\sqrt[]{\\sum_{i=1}^{n}{w_{i}^2}}$ 。\n",
    "  \n",
    "对于误分类的正样本，有$y_{i}=+1$，$w\\cdot x_{i}+b<0$；对于误分类的负样本，有$y_{i}=-1$，$w\\cdot x_{i}+b>0$，  \n",
    "因此，对于误分类的样本来说，总有$-y_{i}(w\\cdot x_{i}+b)>0$，故误分类样本到超平面的距离可以写为：$$-\\frac{y_{i}(w\\cdot x_{i}+b)}{||w||} $$  \n",
    "综上，假设被误分类的样本集合为M，所有误分类样本到超平面的距离之和为：$$-\\frac{\\sum_{x_{i}\\in M} y_{i}(w\\cdot x_{i}+b)}{||w||} $$\n",
    "这个公式有个特点，就是当w和b以某个倍数缩放时，分子和分母会缩放相同的倍数，可以约掉，所以最终的损失函数可以只考虑分子，即$$L(w,b)=-\\sum_{x_{i}\\in M} y_{i}(w\\cdot x_{i}+b)$$\n",
    "这就是感知机模型的损失函数，该函数是w,b的连续可导函数。损失函数越小，则误分类点就离超平面越近，当损失函数为0时，则表明样本全部分类正确。感知机模型的目的就是找到使损失函数最小时的参数w和b。"
   ]
  },
  {
   "cell_type": "markdown",
   "metadata": {},
   "source": [
    "### 3.算法流程\n",
    "从上面可以知道，感知机学习问题实际上就是损失函数极小化问题：$min_{w,b}L(w,b)$，要求使得损失函数最小的w和b，我们先随机初始化w和b，然后采用**随机梯度下降(SGD)** 来优化求解。\n",
    "> **随机梯度下降**：与批量梯度下降一次使用所有样本来更新参数不同，随机梯度下降一次只随机选取一个样本来更新参数。\n",
    "\n",
    "损失函数$L(w,b)$关于w、b的梯度分别为：$$\\frac{dL}{w} = -\\sum_{x_{i}\\in M}y_{i}x_{i}$$ $$\\frac{dL}{b} = -\\sum_{x_{i}\\in M}y_{i}$$\n",
    "随机选取一个误分类样本$(x_{i},y_{i})$，对w和b进行更新：$$w:=w+\t\\alpha y_{i}x_{i}$$ $$b:=b+\t\\alpha y_{i}$$\n",
    "其中$\\alpha \\in(0,1]$是学习率(learning rate)  \n",
    "  \n",
    "综上，感知机算法求解步骤如下：  \n",
    ">模型函数$f(x)=sign(w\\cdot x+b)$，求解w,b\n",
    "1. 随机初始化w,b\n",
    "2. 在训练集中选取某个样本$(x_{i},y_{i})$\n",
    "3. 如果$y_{i}(w\\cdot x_{i}+b)\\leq 0$，则更新参数：  \n",
    "$w:=w+\\alpha y_{i}x_{i}$  \n",
    "$b:=b+\\alpha y_{i}$\n",
    "4. 继续执行第2步，直到没有误分类的样本\n",
    "\n",
    "感知机算法的直观解释：  \n",
    "当有一个样本被误分类时，即该样本位于分离超平面错误的一侧，则调整w和b的值，使超平面向误分类样本的一侧移动，直到超平面越过该误分类样本使其被正确分类。并且有定理已经证明，在训练集线性可分的情况下，该算法是可以收敛的，即经过有限次迭代后，可以找到一个能正确划分所有数据的超平面。(该定理叫做**Novikoff定理**，有兴趣的同学可以自己去搜索推导过程)"
   ]
  },
  {
   "cell_type": "markdown",
   "metadata": {},
   "source": [
    "### 4.Code\n",
    "说了这么多概念和理论，终于到了愉快的敲代码环节啦 :-）  \n",
    "代码中使用Iris数据集，该数据集中每个样本有4个特征，共分为三类。为了方便可视化，训练时只使用了前两个特征和前两个类别。\n",
    "#### 4.1 numpy版"
   ]
  },
  {
   "cell_type": "code",
   "execution_count": 1,
   "metadata": {},
   "outputs": [],
   "source": [
    "import pandas as pd\n",
    "import numpy as np\n",
    "from sklearn.datasets import load_iris\n",
    "import matplotlib.pyplot as plt\n",
    "%matplotlib inline"
   ]
  },
  {
   "cell_type": "code",
   "execution_count": 2,
   "metadata": {},
   "outputs": [
    {
     "data": {
      "image/png": "[encoded data removed]",
      "text/plain": [
       "<matplotlib.figure.Figure at 0x2e40b937c50>"
      ]
     },
     "metadata": {
      "needs_background": "light"
     },
     "output_type": "display_data"
    }
   ],
   "source": [
    "# 加载Iris数据集\n",
    "iris = load_iris()\n",
    "X = iris.data[:, :2]  # 只取前两个特征\n",
    "Y = iris.target\n",
    "\n",
    "# 可视化\n",
    "plt.scatter(X[:50][:,0], X[:50][:,1], label='1')\n",
    "plt.scatter(X[50: 100][:, 0], X[50: 100][:, 1], label='2')\n",
    "plt.scatter(X[100:][:, 0], X[100:][:, 1], label='3')\n",
    "plt.xlabel('sepal length')\n",
    "plt.ylabel('sepal width')\n",
    "plt.legend()\n",
    "plt.show()"
   ]
  },
  {
   "cell_type": "markdown",
   "metadata": {},
   "source": [
    "从图中可以看出，第1类数据与另外两类都是线性可分的，而第2类数据与第3类数据线性不可分，所以在后面训练中将只取第1类数据和第2类数据。"
   ]
  },
  {
   "cell_type": "code",
   "execution_count": 3,
   "metadata": {},
   "outputs": [
    {
     "name": "stdout",
     "output_type": "stream",
     "text": [
      "X shape：(100, 2)\n",
      "Y shape：(100,)\n"
     ]
    }
   ],
   "source": [
    "# 取前两类数据作为训练集\n",
    "X = X[:100]\n",
    "Y = Y[:100]\n",
    "\n",
    "# 将类0转换为 -1\n",
    "Y = np.where(Y, 1, -1) \n",
    "\n",
    "print('X shape：{}'.format(X.shape))\n",
    "print('Y shape：{}'.format(Y.shape))"
   ]
  },
  {
   "cell_type": "code",
   "execution_count": 4,
   "metadata": {},
   "outputs": [],
   "source": [
    "class PLA(object):\n",
    "    def __init__(self, lr=0.01, max_iter=1000, shuffle=True, log=True, log_step=50):\n",
    "        self.max_iter = max_iter\n",
    "        self.lr = lr\n",
    "        self.shuffle = shuffle\n",
    "        self.log = log\n",
    "        self.log_step = log_step\n",
    "        self.w = None\n",
    "        self.b = 0\n",
    "    \n",
    "    def sign(self, x):\n",
    "        return 1 if x >= 0 else -1\n",
    "    \n",
    "    def fit(self, X, Y):\n",
    "        # 样本数量\n",
    "        m = X.shape[0]\n",
    "        # 初始化w\n",
    "        self.w = np.random.randn(X.shape[1])\n",
    "        # 打乱顺序\n",
    "        if self.shuffle:\n",
    "            idx = list(range(m))\n",
    "            np.random.shuffle(idx)\n",
    "            X, Y = X[idx], Y[idx]\n",
    "        \n",
    "        iter_count = 0\n",
    "        while iter_count < self.max_iter:\n",
    "            wrong_samples = []  # 用来存放误分类样本的Loss\n",
    "            for i in range(m):\n",
    "                x, y = X[i], Y[i]\n",
    "                tmp = y * np.add(np.dot(self.w, x), self.b)  # y * (wx + b)\n",
    "                if tmp <= 0:\n",
    "                    # 更新w,b\n",
    "                    self.w += self.lr * y * x\n",
    "                    self.b += self.lr * y\n",
    "                    wrong_samples.append(-tmp)\n",
    "            \n",
    "            # 如果wrong_samples为空，则说明所有样本都被正确分类，训练结束\n",
    "            if not wrong_samples:\n",
    "                print('iter_count: {}\\tloss: 0.0'.format(iter_count))\n",
    "                break\n",
    "                \n",
    "            if self.log:\n",
    "                # 每迭代50次打印一次训练日志\n",
    "                if iter_count % self.log_step == 0 and wrong_samples:\n",
    "                    loss = np.sum(wrong_samples)\n",
    "                    print('iter_count: {}\\tloss: {:.4f}'.format(iter_count, loss))\n",
    "\n",
    "            iter_count += 1\n",
    "            \n",
    "    def predict(self, x):\n",
    "        value = np.dot(self.w, x) + self.b\n",
    "        pred = self.sign(value)\n",
    "        return pred"
   ]
  },
  {
   "cell_type": "code",
   "execution_count": 5,
   "metadata": {
    "scrolled": true
   },
   "outputs": [
    {
     "name": "stdout",
     "output_type": "stream",
     "text": [
      "iter_count: 0\tloss: 17.7147\n",
      "iter_count: 50\tloss: 0.7581\n",
      "iter_count: 100\tloss: 0.6863\n",
      "iter_count: 150\tloss: 0.5763\n",
      "iter_count: 200\tloss: 0.5845\n",
      "iter_count: 250\tloss: 0.4689\n",
      "iter_count: 300\tloss: 0.4641\n",
      "iter_count: 350\tloss: 0.3491\n",
      "iter_count: 400\tloss: 0.3146\n",
      "iter_count: 450\tloss: 0.2916\n",
      "iter_count: 500\tloss: 0.0\n"
     ]
    }
   ],
   "source": [
    "# 训练\n",
    "pla = PLA()\n",
    "pla.fit(X, Y)"
   ]
  },
  {
   "cell_type": "code",
   "execution_count": 6,
   "metadata": {},
   "outputs": [
    {
     "name": "stdout",
     "output_type": "stream",
     "text": [
      "w: [ 0.73338557 -0.91852932]\n",
      "b: -1.1900000000000008\n"
     ]
    }
   ],
   "source": [
    "# 模型学到的w和b\n",
    "print('w: {}'.format(pla.w))\n",
    "print('b: {}'.format(pla.b))"
   ]
  },
  {
   "cell_type": "code",
   "execution_count": 7,
   "metadata": {},
   "outputs": [
    {
     "data": {
      "image/png": "[encoded data removed]",
      "text/plain": [
       "<matplotlib.figure.Figure at 0x2e40bcf80b8>"
      ]
     },
     "metadata": {
      "needs_background": "light"
     },
     "output_type": "display_data"
    }
   ],
   "source": [
    "x0s = np.array([4.0, 7.0])\n",
    "x1s = -(pla.w[0] * x0s + pla.b) / pla.w[1]\n",
    "plt.plot(x0s, x1s, label='fit line', color='green')\n",
    "\n",
    "plt.scatter(X[:50][:,0], X[:50][:,1], label='-1')\n",
    "plt.scatter(X[50:100][:, 0], X[50:100][:, 1], label='+1')\n",
    "plt.xlabel('sepal length')\n",
    "plt.ylabel('sepal width')\n",
    "plt.legend()\n",
    "plt.show()"
   ]
  },
  {
   "cell_type": "code",
   "execution_count": 8,
   "metadata": {},
   "outputs": [
    {
     "name": "stdout",
     "output_type": "stream",
     "text": [
      "1\n",
      "-1\n"
     ]
    }
   ],
   "source": [
    "# 预测\n",
    "test_pos_data = np.array([7.0, 3.5])  # 任意定义一个正样本\n",
    "test_neg_data = np.array([4.2, 2.5])  # 任意定义一个负样本\n",
    "print(pla.predict(test_pos_data))\n",
    "print(pla.predict(test_neg_data))"
   ]
  },
  {
   "cell_type": "markdown",
   "metadata": {},
   "source": [
    "#### 4.2 sklearn版"
   ]
  },
  {
   "cell_type": "code",
   "execution_count": 9,
   "metadata": {},
   "outputs": [],
   "source": [
    "from sklearn.linear_model import Perceptron"
   ]
  },
  {
   "cell_type": "code",
   "execution_count": 10,
   "metadata": {},
   "outputs": [
    {
     "data": {
      "text/plain": [
       "Perceptron(alpha=0.01, class_weight=None, eta0=1.0, fit_intercept=True,\n",
       "      max_iter=1000, n_iter=None, n_jobs=1, penalty=None, random_state=0,\n",
       "      shuffle=True, tol=None, verbose=0, warm_start=False)"
      ]
     },
     "execution_count": 10,
     "metadata": {},
     "output_type": "execute_result"
    }
   ],
   "source": [
    "# 训练\n",
    "pla = Perceptron(alpha=0.01, max_iter=1000)\n",
    "pla.fit(X, Y)"
   ]
  },
  {
   "cell_type": "code",
   "execution_count": 11,
   "metadata": {},
   "outputs": [
    {
     "name": "stdout",
     "output_type": "stream",
     "text": [
      "w: [ 67.2 -85.6]\n",
      "b: -106.0\n"
     ]
    }
   ],
   "source": [
    "# 模型学到的w和b\n",
    "w = pla.coef_[0]\n",
    "b = pla.intercept_[0]\n",
    "print('w: {}'.format(w))\n",
    "print('b: {}'.format(b))"
   ]
  },
  {
   "cell_type": "code",
   "execution_count": 12,
   "metadata": {},
   "outputs": [
    {
     "data": {
      "image/png": "[encoded data removed]",
      "text/plain": [
       "<matplotlib.figure.Figure at 0x2e40bf31ba8>"
      ]
     },
     "metadata": {
      "needs_background": "light"
     },
     "output_type": "display_data"
    }
   ],
   "source": [
    "x0s = np.array([4.0, 7.0])\n",
    "x1s = -(w[0] * x0s + b) / w[1]\n",
    "plt.plot(x0s, x1s, label='fit line', color='green')\n",
    "\n",
    "plt.scatter(X[:50][:,0], X[:50][:,1], label='-1')\n",
    "plt.scatter(X[50:100][:, 0], X[50:100][:, 1], label='+1')\n",
    "plt.xlabel('sepal length')\n",
    "plt.ylabel('sepal width')\n",
    "plt.legend()\n",
    "plt.show()"
   ]
  },
  {
   "cell_type": "code",
   "execution_count": 13,
   "metadata": {},
   "outputs": [
    {
     "name": "stdout",
     "output_type": "stream",
     "text": [
      "[1]\n",
      "[-1]\n"
     ]
    }
   ],
   "source": [
    "# 预测\n",
    "test_pos_data = np.array([7.0, 3.5])  # 任意定义一个正样本\n",
    "test_neg_data = np.array([4.2, 2.5])  # 任意定义一个负样本\n",
    "print(pla.predict(test_pos_data.reshape(1, -1)))\n",
    "print(pla.predict(test_neg_data.reshape(1, -1)))"
   ]
  },
  {
   "cell_type": "markdown",
   "metadata": {},
   "source": [
    "#### 4.3 tensorflow版"
   ]
  },
  {
   "cell_type": "code",
   "execution_count": 14,
   "metadata": {},
   "outputs": [],
   "source": [
    "import tensorflow as tf"
   ]
  },
  {
   "cell_type": "code",
   "execution_count": 15,
   "metadata": {},
   "outputs": [],
   "source": [
    "# Parameters\n",
    "lr = 0.01\n",
    "max_epochs = 1000\n",
    "log_step = 50\n",
    "\n",
    "# tf计算图的输入\n",
    "X_input = tf.placeholder(tf.float32, shape=(None, 2), name='X')\n",
    "Y_input = tf.placeholder(tf.float32, shape=(None, 1), name='Y')\n",
    "\n",
    "# 初始化参数\n",
    "W = tf.Variable(tf.random_normal([2, 1]), dtype=tf.float32, name='weight')\n",
    "b = tf.Variable(0.0, dtype=tf.float32, name='bias')\n",
    "\n",
    "# y * (wx + b)\n",
    "pred = tf.squeeze(tf.multiply(Y_input, tf.matmul(X_input, W) + b))\n",
    "\n",
    "# loss\n",
    "loss = -tf.reduce_sum(pred)\n",
    "\n",
    "# Gradient descent\n",
    "optimizer = tf.train.GradientDescentOptimizer(lr).minimize(loss)"
   ]
  },
  {
   "cell_type": "code",
   "execution_count": 16,
   "metadata": {
    "scrolled": true
   },
   "outputs": [
    {
     "name": "stdout",
     "output_type": "stream",
     "text": [
      "epoch: 0\tloss: 20.3599\n",
      "epoch: 50\tloss: 0.3290\n",
      "epoch: 76\tloss: 0.0\n"
     ]
    }
   ],
   "source": [
    "init = tf.global_variables_initializer()\n",
    "sess = tf.Session()\n",
    "sess.run(init)\n",
    "\n",
    "# 训练\n",
    "for epoch in range(max_epochs):\n",
    "    wrong_samples = []  # 用来存放误分类样本loss\n",
    "    for x, y in zip(X, Y):\n",
    "        feed_dict = {X_input: x.reshape(-1, 2), Y_input: y.reshape(-1, 1)}\n",
    "        loss = sess.run(pred, feed_dict=feed_dict)\n",
    "        if loss < 0:\n",
    "            sess.run(optimizer, feed_dict=feed_dict)\n",
    "            wrong_samples.append(loss)\n",
    "\n",
    "    if not wrong_samples:\n",
    "        print('epoch: {}\\tloss: 0.0'.format(epoch))\n",
    "        break\n",
    "\n",
    "    if epoch % log_step == 0:\n",
    "        total_loss = sess.run(-tf.reduce_sum(wrong_samples))\n",
    "        print('epoch: {}\\tloss: {:.4f}'.format(epoch, total_loss))"
   ]
  },
  {
   "cell_type": "code",
   "execution_count": 17,
   "metadata": {
    "scrolled": true
   },
   "outputs": [
    {
     "name": "stdout",
     "output_type": "stream",
     "text": [
      "w: [ 0.16883528 -0.21350843]\n",
      "b: -0.27000001072883606\n"
     ]
    }
   ],
   "source": [
    "w = np.squeeze(sess.run(W))\n",
    "b = sess.run(b)\n",
    "print('w: {}'.format(w))\n",
    "print('b: {}'.format(b))"
   ]
  },
  {
   "cell_type": "code",
   "execution_count": 18,
   "metadata": {
    "scrolled": true
   },
   "outputs": [
    {
     "data": {
      "image/png": "[encoded data removed]",
      "text/plain": [
       "<matplotlib.figure.Figure at 0x2e40f7e8cf8>"
      ]
     },
     "metadata": {
      "needs_background": "light"
     },
     "output_type": "display_data"
    }
   ],
   "source": [
    "x0s = np.array([4.0, 7.0])\n",
    "x1s = -(w[0] * x0s + b) / w[1]\n",
    "plt.plot(x0s, x1s, label='fit line', color='green')\n",
    "\n",
    "plt.scatter(X[:50][:,0], X[:50][:,1], label='-1')\n",
    "plt.scatter(X[50:100][:, 0], X[50:100][:, 1], label='+1')\n",
    "plt.xlabel('sepal length')\n",
    "plt.ylabel('sepal width')\n",
    "plt.legend()\n",
    "plt.show()         "
   ]
  },
  {
   "cell_type": "markdown",
   "metadata": {},
   "source": [
    "### 5.总结\n",
    "- 感知机模型的函数表示：$f(x)=sign(w\\cdot x + b)$\n",
    "- 损失函数为误分类样本到分离超平面的距离之和：$L(w,b)=-\\sum_{x_{i}\\in M} y_{i}(w\\cdot x_{i}+b)$\n",
    "- 使用随机梯度下降来优化损失函数\n",
    "- 当训练集是线性可分时，感知机算法是一定可以找到将训练集完全正确分离的超平面的\n",
    "- 当训练集是线性可分时，感知机算法存在无穷多个解，这些解由于不同的初值选择或不同的迭代顺序而不同"
   ]
  }
 ],
 "metadata": {
  "kernelspec": {
   "display_name": "Python 3",
   "language": "python",
   "name": "python3"
  },
  "language_info": {
   "codemirror_mode": {
    "name": "ipython",
    "version": 3
   },
   "file_extension": ".py",
   "mimetype": "text/x-python",
   "name": "python",
   "nbconvert_exporter": "python",
   "pygments_lexer": "ipython3",
   "version": "3.6.4"
  },
  "toc": {
   "base_numbering": 1,
   "nav_menu": {},
   "number_sections": false,
   "sideBar": true,
   "skip_h1_title": true,
   "title_cell": "Table of Contents",
   "title_sidebar": "Contents",
   "toc_cell": false,
   "toc_position": {
    "height": "calc(100% - 180px)",
    "left": "10px",
    "top": "150px",
    "width": "219px"
   },
   "toc_section_display": true,
   "toc_window_display": true
  }
 },
 "nbformat": 4,
 "nbformat_minor": 2
}
