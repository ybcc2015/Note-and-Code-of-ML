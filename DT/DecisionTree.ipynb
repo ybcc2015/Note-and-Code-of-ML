{
 "cells": [
  {
   "cell_type": "markdown",
   "metadata": {},
   "source": [
    "## 决策树\n",
    "决策树(decision tree)是一种基本额分类与回归算法。在分类问题中，表示基于特征对样本进行分类的过程，可以认识它是一种**if-then**规则的集合。决策树模型的学习过程通常包括三个步骤：\n",
    "- 特征选择\n",
    "- 决策树的生成\n",
    "- 决策树的修剪"
   ]
  },
  {
   "attachments": {},
   "cell_type": "markdown",
   "metadata": {},
   "source": [
    "### 1.模型定义\n",
    "决策树模型是一种由**节点(node)** 和 **有向边(directed edge)** 组成的树形结构。其中节点有两种类型：\n",
    "- **内部节点(internal node)：**表示某一个特征\n",
    "- **叶节点(leaf node)：**表示某个类  \n",
    "  \n",
    "决策树进行分类的过程：从根节点开始，对样本的某一特征进行判断，根据判断结果将样本分配到子节点，然后如此递归的进行判断并分配，直至到达某一叶节点，则该样本属于该叶节点中的类。  \n",
    "![决策树模型](http://ss.csdn.net/p?http://mmbiz.qpic.cn/mmbiz_png/YJotEuBMe46kpkbMUnwibufql6UEGgSWHut2db23kwpUOeicu9nlHlahTqR1FnwR4DXw5vt1HqRCCSRMYQevxTzQ/0?wx_fmt=png)\n",
    "上图是一个简单的决策树模型，根据某人“是否有房产”“是否结婚”以及“月收入”这三个特征，来判断能否偿还贷款。\n"
   ]
  },
  {
   "cell_type": "code",
   "execution_count": null,
   "metadata": {},
   "outputs": [],
   "source": []
  }
 ],
 "metadata": {
  "kernelspec": {
   "display_name": "Python 3",
   "language": "python",
   "name": "python3"
  },
  "language_info": {
   "codemirror_mode": {
    "name": "ipython",
    "version": 3
   },
   "file_extension": ".py",
   "mimetype": "text/x-python",
   "name": "python",
   "nbconvert_exporter": "python",
   "pygments_lexer": "ipython3",
   "version": "3.6.4"
  },
  "toc": {
   "base_numbering": 1,
   "nav_menu": {},
   "number_sections": false,
   "sideBar": true,
   "skip_h1_title": false,
   "title_cell": "Table of Contents",
   "title_sidebar": "Contents",
   "toc_cell": false,
   "toc_position": {
    "height": "calc(100% - 180px)",
    "left": "10px",
    "top": "150px",
    "width": "273px"
   },
   "toc_section_display": true,
   "toc_window_display": true
  }
 },
 "nbformat": 4,
 "nbformat_minor": 2
}
